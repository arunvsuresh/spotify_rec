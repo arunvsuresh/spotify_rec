{
 "cells": [
  {
   "cell_type": "code",
   "execution_count": 65,
   "id": "7360f2e6",
   "metadata": {},
   "outputs": [],
   "source": [
    "import pandas as pd\n",
    "import spotipy\n",
    "from spotipy.oauth2 import SpotifyOAuth\n",
    "import os\n",
    "import pandas as pd\n",
    "from google.cloud import storage\n",
    "import logging\n",
    "import threading\n",
    "import time\n",
    "import pyarrow as pa\n",
    "import pyarrow.parquet as pq\n",
    "import pyarrow.compute as pc\n",
    "from prefect import flow, task \n",
    "from prefect_gcp.cloud_storage import GcsBucket\n",
    "from prefect.tasks import task_input_hash\n",
    "from pathlib import Path\n",
    "import json"
   ]
  },
  {
   "cell_type": "code",
   "execution_count": 66,
   "id": "49a91df2",
   "metadata": {},
   "outputs": [
    {
     "data": {
      "text/plain": [
       "'2.0.2'"
      ]
     },
     "execution_count": 66,
     "metadata": {},
     "output_type": "execute_result"
    }
   ],
   "source": [
    "pd.__version__"
   ]
  },
  {
   "cell_type": "code",
   "execution_count": 67,
   "id": "05f8e090",
   "metadata": {},
   "outputs": [],
   "source": [
    "sp = spotipy.Spotify(auth_manager=SpotifyOAuth())\n"
   ]
  },
  {
   "cell_type": "code",
   "execution_count": 7,
   "id": "75bbcd92",
   "metadata": {},
   "outputs": [],
   "source": [
    "playlists = pd.read_csv('playlists.csv')"
   ]
  },
  {
   "cell_type": "code",
   "execution_count": 8,
   "id": "9245f175",
   "metadata": {},
   "outputs": [
    {
     "data": {
      "text/plain": [
       "genre\n",
       "Classical           10\n",
       "Country             10\n",
       "Dance/Electronic    10\n",
       "Hip-Hop             10\n",
       "Indie               10\n",
       "Jazz                10\n",
       "K-Pop               10\n",
       "Pop                 10\n",
       "Rock                10\n",
       "Soul                10\n",
       "Name: playlist_id, dtype: int64"
      ]
     },
     "execution_count": 8,
     "metadata": {},
     "output_type": "execute_result"
    }
   ],
   "source": [
    "playlists.groupby(['genre'])['playlist_id'].count()"
   ]
  },
  {
   "cell_type": "code",
   "execution_count": 9,
   "id": "caea9eb2",
   "metadata": {},
   "outputs": [
    {
     "data": {
      "text/plain": [
       "(100, 6)"
      ]
     },
     "execution_count": 9,
     "metadata": {},
     "output_type": "execute_result"
    }
   ],
   "source": [
    "playlists.shape"
   ]
  },
  {
   "cell_type": "code",
   "execution_count": 10,
   "id": "f842586d",
   "metadata": {},
   "outputs": [
    {
     "data": {
      "text/plain": [
       "100"
      ]
     },
     "execution_count": 10,
     "metadata": {},
     "output_type": "execute_result"
    }
   ],
   "source": [
    "len(playlists)"
   ]
  },
  {
   "cell_type": "code",
   "execution_count": 11,
   "id": "774f4d74",
   "metadata": {},
   "outputs": [],
   "source": [
    "tracks = pd.read_csv('tracks.csv')"
   ]
  },
  {
   "cell_type": "code",
   "execution_count": 13,
   "id": "2011cad9",
   "metadata": {},
   "outputs": [
    {
     "data": {
      "text/plain": [
       "genre\n",
       "Classical            750\n",
       "Country              964\n",
       "Dance/Electronic    1152\n",
       "Hip-Hop              624\n",
       "Indie               1066\n",
       "Jazz                1054\n",
       "K-Pop               1386\n",
       "Pop                  921\n",
       "Rock                 869\n",
       "Soul                 848\n",
       "Name: track_id, dtype: int64"
      ]
     },
     "execution_count": 13,
     "metadata": {},
     "output_type": "execute_result"
    }
   ],
   "source": [
    "tracks.groupby(['genre'])['track_id'].count()"
   ]
  },
  {
   "cell_type": "code",
   "execution_count": 33,
   "id": "e4941147",
   "metadata": {},
   "outputs": [],
   "source": [
    "tracks['track_id'] = tracks['track_id'].str.strip()"
   ]
  },
  {
   "cell_type": "code",
   "execution_count": 35,
   "id": "ac9224f1",
   "metadata": {},
   "outputs": [
    {
     "data": {
      "text/plain": [
       "(9634, 8154, (9634, 13))"
      ]
     },
     "execution_count": 35,
     "metadata": {},
     "output_type": "execute_result"
    }
   ],
   "source": [
    "len(tracks), tracks.track_id.nunique(), tracks.shape"
   ]
  },
  {
   "cell_type": "code",
   "execution_count": 29,
   "id": "945d552e",
   "metadata": {},
   "outputs": [
    {
     "data": {
      "text/plain": [
       "pandas.core.series.Series"
      ]
     },
     "execution_count": 29,
     "metadata": {},
     "output_type": "execute_result"
    }
   ],
   "source": [
    "tracks.duplicated()"
   ]
  },
  {
   "cell_type": "code",
   "execution_count": 39,
   "id": "8782c408",
   "metadata": {},
   "outputs": [],
   "source": [
    "tracks = tracks.drop(columns=['Unnamed: 0'])"
   ]
  },
  {
   "cell_type": "code",
   "execution_count": 50,
   "id": "f7aa3393",
   "metadata": {},
   "outputs": [],
   "source": [
    "dups = tracks.track_id.duplicated()"
   ]
  },
  {
   "cell_type": "code",
   "execution_count": 57,
   "id": "d6afb8a3",
   "metadata": {},
   "outputs": [
    {
     "data": {
      "text/plain": [
       "track_id\n",
       "0ZxhtATQ0a6EvQNZ0z6NKV    8\n",
       "6AQbmUe0Qwf5PZnt4HmTXv    7\n",
       "6GGtHZgBycCgGBUhZo81xe    6\n",
       "59uQI0PADDKeE6UZDTJEe8    6\n",
       "7Az7rVogNu6XpLnykVI5fA    6\n",
       "                         ..\n",
       "5ZL7NaGGBDkqvROpy7bikT    1\n",
       "2jt1PRnEe1E96lGJoRBT8L    1\n",
       "5RXuv1FvyPSyKLe8pAFTuc    1\n",
       "2fFN2uDtvZ9PcYnFlCUJWT    1\n",
       "7kjU2PdLXMBZfPnAgX1ZuA    1\n",
       "Name: count, Length: 8154, dtype: int64"
      ]
     },
     "execution_count": 57,
     "metadata": {},
     "output_type": "execute_result"
    }
   ],
   "source": [
    "tracks.track_id.value_counts()"
   ]
  },
  {
   "cell_type": "code",
   "execution_count": 58,
   "id": "7687ae7f",
   "metadata": {},
   "outputs": [
    {
     "data": {
      "text/html": [
       "<div>\n",
       "<style scoped>\n",
       "    .dataframe tbody tr th:only-of-type {\n",
       "        vertical-align: middle;\n",
       "    }\n",
       "\n",
       "    .dataframe tbody tr th {\n",
       "        vertical-align: top;\n",
       "    }\n",
       "\n",
       "    .dataframe thead th {\n",
       "        text-align: right;\n",
       "    }\n",
       "</style>\n",
       "<table border=\"1\" class=\"dataframe\">\n",
       "  <thead>\n",
       "    <tr style=\"text-align: right;\">\n",
       "      <th></th>\n",
       "      <th>track_id</th>\n",
       "      <th>track_name</th>\n",
       "      <th>artist_name</th>\n",
       "      <th>artist_id</th>\n",
       "      <th>track_popularity</th>\n",
       "      <th>album_name</th>\n",
       "      <th>album_id</th>\n",
       "      <th>track_length</th>\n",
       "      <th>release_date</th>\n",
       "      <th>playlist_id</th>\n",
       "      <th>playlist_name</th>\n",
       "      <th>genre</th>\n",
       "    </tr>\n",
       "  </thead>\n",
       "  <tbody>\n",
       "    <tr>\n",
       "      <th>40</th>\n",
       "      <td>0ZxhtATQ0a6EvQNZ0z6NKV</td>\n",
       "      <td>Princess Diana (with Nicki Minaj)</td>\n",
       "      <td>Ice Spice</td>\n",
       "      <td>3LZZPxNDGDFVSIPqf4JuEf</td>\n",
       "      <td>88</td>\n",
       "      <td>Princess Diana (with Nicki Minaj)</td>\n",
       "      <td>2Q7WBQ794rA9ISPLfqdKjK</td>\n",
       "      <td>2.87</td>\n",
       "      <td>2023-04-14</td>\n",
       "      <td>37i9dQZF1DX0XUsuxWHRQd</td>\n",
       "      <td>RapCaviar</td>\n",
       "      <td>Hip-Hop</td>\n",
       "    </tr>\n",
       "    <tr>\n",
       "      <th>53</th>\n",
       "      <td>0ZxhtATQ0a6EvQNZ0z6NKV</td>\n",
       "      <td>Princess Diana (with Nicki Minaj)</td>\n",
       "      <td>Ice Spice</td>\n",
       "      <td>3LZZPxNDGDFVSIPqf4JuEf</td>\n",
       "      <td>88</td>\n",
       "      <td>Princess Diana (with Nicki Minaj)</td>\n",
       "      <td>2Q7WBQ794rA9ISPLfqdKjK</td>\n",
       "      <td>2.87</td>\n",
       "      <td>2023-04-14</td>\n",
       "      <td>37i9dQZF1DX6GwdWRQMQpq</td>\n",
       "      <td>Feelin' Myself</td>\n",
       "      <td>Hip-Hop</td>\n",
       "    </tr>\n",
       "    <tr>\n",
       "      <th>131</th>\n",
       "      <td>0ZxhtATQ0a6EvQNZ0z6NKV</td>\n",
       "      <td>Princess Diana (with Nicki Minaj)</td>\n",
       "      <td>Ice Spice</td>\n",
       "      <td>3LZZPxNDGDFVSIPqf4JuEf</td>\n",
       "      <td>88</td>\n",
       "      <td>Princess Diana (with Nicki Minaj)</td>\n",
       "      <td>2Q7WBQ794rA9ISPLfqdKjK</td>\n",
       "      <td>2.87</td>\n",
       "      <td>2023-04-14</td>\n",
       "      <td>37i9dQZF1DX2RxBh64BHjQ</td>\n",
       "      <td>Most Necessary</td>\n",
       "      <td>Hip-Hop</td>\n",
       "    </tr>\n",
       "    <tr>\n",
       "      <th>265</th>\n",
       "      <td>0ZxhtATQ0a6EvQNZ0z6NKV</td>\n",
       "      <td>Princess Diana (with Nicki Minaj)</td>\n",
       "      <td>Ice Spice</td>\n",
       "      <td>3LZZPxNDGDFVSIPqf4JuEf</td>\n",
       "      <td>88</td>\n",
       "      <td>Princess Diana (with Nicki Minaj)</td>\n",
       "      <td>2Q7WBQ794rA9ISPLfqdKjK</td>\n",
       "      <td>2.87</td>\n",
       "      <td>2023-04-14</td>\n",
       "      <td>37i9dQZF1DWTl4y3vgJOXW</td>\n",
       "      <td>Locked In</td>\n",
       "      <td>Hip-Hop</td>\n",
       "    </tr>\n",
       "    <tr>\n",
       "      <th>364</th>\n",
       "      <td>0ZxhtATQ0a6EvQNZ0z6NKV</td>\n",
       "      <td>Princess Diana (with Nicki Minaj)</td>\n",
       "      <td>Ice Spice</td>\n",
       "      <td>3LZZPxNDGDFVSIPqf4JuEf</td>\n",
       "      <td>88</td>\n",
       "      <td>Princess Diana (with Nicki Minaj)</td>\n",
       "      <td>2Q7WBQ794rA9ISPLfqdKjK</td>\n",
       "      <td>2.87</td>\n",
       "      <td>2023-04-14</td>\n",
       "      <td>37i9dQZF1DWY4xHQp97fN6</td>\n",
       "      <td>Get Turnt</td>\n",
       "      <td>Hip-Hop</td>\n",
       "    </tr>\n",
       "    <tr>\n",
       "      <th>505</th>\n",
       "      <td>0ZxhtATQ0a6EvQNZ0z6NKV</td>\n",
       "      <td>Princess Diana (with Nicki Minaj)</td>\n",
       "      <td>Ice Spice</td>\n",
       "      <td>3LZZPxNDGDFVSIPqf4JuEf</td>\n",
       "      <td>88</td>\n",
       "      <td>Princess Diana (with Nicki Minaj)</td>\n",
       "      <td>2Q7WBQ794rA9ISPLfqdKjK</td>\n",
       "      <td>2.87</td>\n",
       "      <td>2023-04-14</td>\n",
       "      <td>37i9dQZF1DX8uG7blV3kzV</td>\n",
       "      <td>Now Playing...</td>\n",
       "      <td>Hip-Hop</td>\n",
       "    </tr>\n",
       "    <tr>\n",
       "      <th>710</th>\n",
       "      <td>0ZxhtATQ0a6EvQNZ0z6NKV</td>\n",
       "      <td>Princess Diana (with Nicki Minaj)</td>\n",
       "      <td>Ice Spice</td>\n",
       "      <td>3LZZPxNDGDFVSIPqf4JuEf</td>\n",
       "      <td>88</td>\n",
       "      <td>Princess Diana (with Nicki Minaj)</td>\n",
       "      <td>2Q7WBQ794rA9ISPLfqdKjK</td>\n",
       "      <td>2.87</td>\n",
       "      <td>2023-04-14</td>\n",
       "      <td>37i9dQZF1DX0kbJZpiYdZl</td>\n",
       "      <td>Hot Hits USA</td>\n",
       "      <td>Pop</td>\n",
       "    </tr>\n",
       "    <tr>\n",
       "      <th>790</th>\n",
       "      <td>0ZxhtATQ0a6EvQNZ0z6NKV</td>\n",
       "      <td>Princess Diana (with Nicki Minaj)</td>\n",
       "      <td>Ice Spice</td>\n",
       "      <td>3LZZPxNDGDFVSIPqf4JuEf</td>\n",
       "      <td>88</td>\n",
       "      <td>Princess Diana (with Nicki Minaj)</td>\n",
       "      <td>2Q7WBQ794rA9ISPLfqdKjK</td>\n",
       "      <td>2.87</td>\n",
       "      <td>2023-04-14</td>\n",
       "      <td>37i9dQZF1DWWvvyNmW9V9a</td>\n",
       "      <td>teen beats</td>\n",
       "      <td>Pop</td>\n",
       "    </tr>\n",
       "  </tbody>\n",
       "</table>\n",
       "</div>"
      ],
      "text/plain": [
       "                   track_id                         track_name artist_name  \\\n",
       "40   0ZxhtATQ0a6EvQNZ0z6NKV  Princess Diana (with Nicki Minaj)   Ice Spice   \n",
       "53   0ZxhtATQ0a6EvQNZ0z6NKV  Princess Diana (with Nicki Minaj)   Ice Spice   \n",
       "131  0ZxhtATQ0a6EvQNZ0z6NKV  Princess Diana (with Nicki Minaj)   Ice Spice   \n",
       "265  0ZxhtATQ0a6EvQNZ0z6NKV  Princess Diana (with Nicki Minaj)   Ice Spice   \n",
       "364  0ZxhtATQ0a6EvQNZ0z6NKV  Princess Diana (with Nicki Minaj)   Ice Spice   \n",
       "505  0ZxhtATQ0a6EvQNZ0z6NKV  Princess Diana (with Nicki Minaj)   Ice Spice   \n",
       "710  0ZxhtATQ0a6EvQNZ0z6NKV  Princess Diana (with Nicki Minaj)   Ice Spice   \n",
       "790  0ZxhtATQ0a6EvQNZ0z6NKV  Princess Diana (with Nicki Minaj)   Ice Spice   \n",
       "\n",
       "                  artist_id  track_popularity  \\\n",
       "40   3LZZPxNDGDFVSIPqf4JuEf                88   \n",
       "53   3LZZPxNDGDFVSIPqf4JuEf                88   \n",
       "131  3LZZPxNDGDFVSIPqf4JuEf                88   \n",
       "265  3LZZPxNDGDFVSIPqf4JuEf                88   \n",
       "364  3LZZPxNDGDFVSIPqf4JuEf                88   \n",
       "505  3LZZPxNDGDFVSIPqf4JuEf                88   \n",
       "710  3LZZPxNDGDFVSIPqf4JuEf                88   \n",
       "790  3LZZPxNDGDFVSIPqf4JuEf                88   \n",
       "\n",
       "                            album_name                album_id  track_length  \\\n",
       "40   Princess Diana (with Nicki Minaj)  2Q7WBQ794rA9ISPLfqdKjK          2.87   \n",
       "53   Princess Diana (with Nicki Minaj)  2Q7WBQ794rA9ISPLfqdKjK          2.87   \n",
       "131  Princess Diana (with Nicki Minaj)  2Q7WBQ794rA9ISPLfqdKjK          2.87   \n",
       "265  Princess Diana (with Nicki Minaj)  2Q7WBQ794rA9ISPLfqdKjK          2.87   \n",
       "364  Princess Diana (with Nicki Minaj)  2Q7WBQ794rA9ISPLfqdKjK          2.87   \n",
       "505  Princess Diana (with Nicki Minaj)  2Q7WBQ794rA9ISPLfqdKjK          2.87   \n",
       "710  Princess Diana (with Nicki Minaj)  2Q7WBQ794rA9ISPLfqdKjK          2.87   \n",
       "790  Princess Diana (with Nicki Minaj)  2Q7WBQ794rA9ISPLfqdKjK          2.87   \n",
       "\n",
       "    release_date             playlist_id   playlist_name    genre  \n",
       "40    2023-04-14  37i9dQZF1DX0XUsuxWHRQd       RapCaviar  Hip-Hop  \n",
       "53    2023-04-14  37i9dQZF1DX6GwdWRQMQpq  Feelin' Myself  Hip-Hop  \n",
       "131   2023-04-14  37i9dQZF1DX2RxBh64BHjQ  Most Necessary  Hip-Hop  \n",
       "265   2023-04-14  37i9dQZF1DWTl4y3vgJOXW       Locked In  Hip-Hop  \n",
       "364   2023-04-14  37i9dQZF1DWY4xHQp97fN6       Get Turnt  Hip-Hop  \n",
       "505   2023-04-14  37i9dQZF1DX8uG7blV3kzV  Now Playing...  Hip-Hop  \n",
       "710   2023-04-14  37i9dQZF1DX0kbJZpiYdZl    Hot Hits USA      Pop  \n",
       "790   2023-04-14  37i9dQZF1DWWvvyNmW9V9a      teen beats      Pop  "
      ]
     },
     "execution_count": 58,
     "metadata": {},
     "output_type": "execute_result"
    }
   ],
   "source": [
    "tracks[tracks.track_id == '0ZxhtATQ0a6EvQNZ0z6NKV']"
   ]
  },
  {
   "cell_type": "code",
   "execution_count": 46,
   "id": "264af27b",
   "metadata": {},
   "outputs": [
    {
     "data": {
      "text/plain": [
       "1480"
      ]
     },
     "execution_count": 46,
     "metadata": {},
     "output_type": "execute_result"
    }
   ],
   "source": [
    "9634 - 8154"
   ]
  },
  {
   "cell_type": "code",
   "execution_count": 62,
   "id": "6db6d57c",
   "metadata": {},
   "outputs": [],
   "source": [
    "track_ids = tracks.track_id.unique().tolist()"
   ]
  },
  {
   "cell_type": "code",
   "execution_count": 63,
   "id": "17c1f72b",
   "metadata": {},
   "outputs": [
    {
     "data": {
      "text/plain": [
       "8154"
      ]
     },
     "execution_count": 63,
     "metadata": {},
     "output_type": "execute_result"
    }
   ],
   "source": [
    "len(track_ids)"
   ]
  },
  {
   "cell_type": "code",
   "execution_count": 74,
   "id": "2be14da2",
   "metadata": {},
   "outputs": [],
   "source": [
    "audio_features = []\n",
    "i = 0\n",
    "while i < len(track_ids):\n",
    "    audio_features.append(sp.audio_features(tracks=track_ids[i:i+100]))\n",
    "    i += 100\n",
    "\n",
    "# for i in range(0, len(track_ids), 100):\n",
    "#     if i \n",
    "#     sp.audio_features(tracks=track_ids[])"
   ]
  },
  {
   "cell_type": "code",
   "execution_count": 79,
   "id": "079ee636",
   "metadata": {},
   "outputs": [],
   "source": [
    "def flatten_list(lst):\n",
    "    return [item for inner_list in lst for item in inner_list]"
   ]
  },
  {
   "cell_type": "code",
   "execution_count": 81,
   "id": "f6339238",
   "metadata": {},
   "outputs": [],
   "source": [
    "audio_features = flatten_list(audio_features)"
   ]
  },
  {
   "cell_type": "code",
   "execution_count": 91,
   "id": "de6a2ead",
   "metadata": {},
   "outputs": [],
   "source": [
    "audio_features = [i for i in audio_features if i is not None]"
   ]
  },
  {
   "cell_type": "code",
   "execution_count": 92,
   "id": "0b652b70",
   "metadata": {},
   "outputs": [],
   "source": [
    "audio_features = pd.DataFrame.from_dict(audio_features)"
   ]
  },
  {
   "cell_type": "code",
   "execution_count": 94,
   "id": "af695544",
   "metadata": {},
   "outputs": [
    {
     "data": {
      "text/html": [
       "<div>\n",
       "<style scoped>\n",
       "    .dataframe tbody tr th:only-of-type {\n",
       "        vertical-align: middle;\n",
       "    }\n",
       "\n",
       "    .dataframe tbody tr th {\n",
       "        vertical-align: top;\n",
       "    }\n",
       "\n",
       "    .dataframe thead th {\n",
       "        text-align: right;\n",
       "    }\n",
       "</style>\n",
       "<table border=\"1\" class=\"dataframe\">\n",
       "  <thead>\n",
       "    <tr style=\"text-align: right;\">\n",
       "      <th></th>\n",
       "      <th>danceability</th>\n",
       "      <th>energy</th>\n",
       "      <th>key</th>\n",
       "      <th>loudness</th>\n",
       "      <th>mode</th>\n",
       "      <th>speechiness</th>\n",
       "      <th>acousticness</th>\n",
       "      <th>instrumentalness</th>\n",
       "      <th>liveness</th>\n",
       "      <th>valence</th>\n",
       "      <th>tempo</th>\n",
       "      <th>type</th>\n",
       "      <th>id</th>\n",
       "      <th>uri</th>\n",
       "      <th>track_href</th>\n",
       "      <th>analysis_url</th>\n",
       "      <th>duration_ms</th>\n",
       "      <th>time_signature</th>\n",
       "    </tr>\n",
       "  </thead>\n",
       "  <tbody>\n",
       "    <tr>\n",
       "      <th>0</th>\n",
       "      <td>0.611</td>\n",
       "      <td>0.483</td>\n",
       "      <td>11</td>\n",
       "      <td>-6.216</td>\n",
       "      <td>0</td>\n",
       "      <td>0.055</td>\n",
       "      <td>0.2140</td>\n",
       "      <td>0.0</td>\n",
       "      <td>0.1240</td>\n",
       "      <td>0.204</td>\n",
       "      <td>145.983</td>\n",
       "      <td>audio_features</td>\n",
       "      <td>39MK3d3fonIP8Mz9oHCTBB</td>\n",
       "      <td>spotify:track:39MK3d3fonIP8Mz9oHCTBB</td>\n",
       "      <td>https://api.spotify.com/v1/tracks/39MK3d3fonIP...</td>\n",
       "      <td>https://api.spotify.com/v1/audio-analysis/39MK...</td>\n",
       "      <td>231747</td>\n",
       "      <td>4</td>\n",
       "    </tr>\n",
       "    <tr>\n",
       "      <th>1</th>\n",
       "      <td>0.900</td>\n",
       "      <td>0.597</td>\n",
       "      <td>11</td>\n",
       "      <td>-6.008</td>\n",
       "      <td>1</td>\n",
       "      <td>0.232</td>\n",
       "      <td>0.0299</td>\n",
       "      <td>0.0</td>\n",
       "      <td>0.0933</td>\n",
       "      <td>0.548</td>\n",
       "      <td>133.954</td>\n",
       "      <td>audio_features</td>\n",
       "      <td>1k513qenEUjyU3MxMSUaPj</td>\n",
       "      <td>spotify:track:1k513qenEUjyU3MxMSUaPj</td>\n",
       "      <td>https://api.spotify.com/v1/tracks/1k513qenEUjy...</td>\n",
       "      <td>https://api.spotify.com/v1/audio-analysis/1k51...</td>\n",
       "      <td>164776</td>\n",
       "      <td>4</td>\n",
       "    </tr>\n",
       "    <tr>\n",
       "      <th>2</th>\n",
       "      <td>0.829</td>\n",
       "      <td>0.436</td>\n",
       "      <td>3</td>\n",
       "      <td>-8.205</td>\n",
       "      <td>1</td>\n",
       "      <td>0.327</td>\n",
       "      <td>0.1500</td>\n",
       "      <td>0.0</td>\n",
       "      <td>0.0954</td>\n",
       "      <td>0.693</td>\n",
       "      <td>143.031</td>\n",
       "      <td>audio_features</td>\n",
       "      <td>6HgWWaMu31KdOpEG5l28BG</td>\n",
       "      <td>spotify:track:6HgWWaMu31KdOpEG5l28BG</td>\n",
       "      <td>https://api.spotify.com/v1/tracks/6HgWWaMu31Kd...</td>\n",
       "      <td>https://api.spotify.com/v1/audio-analysis/6HgW...</td>\n",
       "      <td>223204</td>\n",
       "      <td>4</td>\n",
       "    </tr>\n",
       "    <tr>\n",
       "      <th>3</th>\n",
       "      <td>0.939</td>\n",
       "      <td>0.521</td>\n",
       "      <td>1</td>\n",
       "      <td>-7.468</td>\n",
       "      <td>1</td>\n",
       "      <td>0.379</td>\n",
       "      <td>0.1950</td>\n",
       "      <td>0.0</td>\n",
       "      <td>0.2010</td>\n",
       "      <td>0.515</td>\n",
       "      <td>124.995</td>\n",
       "      <td>audio_features</td>\n",
       "      <td>4EzkcqltSOxYE2lstuLOFs</td>\n",
       "      <td>spotify:track:4EzkcqltSOxYE2lstuLOFs</td>\n",
       "      <td>https://api.spotify.com/v1/tracks/4EzkcqltSOxY...</td>\n",
       "      <td>https://api.spotify.com/v1/audio-analysis/4Ezk...</td>\n",
       "      <td>133000</td>\n",
       "      <td>4</td>\n",
       "    </tr>\n",
       "    <tr>\n",
       "      <th>4</th>\n",
       "      <td>0.803</td>\n",
       "      <td>0.649</td>\n",
       "      <td>9</td>\n",
       "      <td>-4.294</td>\n",
       "      <td>0</td>\n",
       "      <td>0.213</td>\n",
       "      <td>0.1110</td>\n",
       "      <td>0.0</td>\n",
       "      <td>0.1110</td>\n",
       "      <td>0.135</td>\n",
       "      <td>85.037</td>\n",
       "      <td>audio_features</td>\n",
       "      <td>6GoVUO5vla1JtUj2rq9Yl4</td>\n",
       "      <td>spotify:track:6GoVUO5vla1JtUj2rq9Yl4</td>\n",
       "      <td>https://api.spotify.com/v1/tracks/6GoVUO5vla1J...</td>\n",
       "      <td>https://api.spotify.com/v1/audio-analysis/6GoV...</td>\n",
       "      <td>226360</td>\n",
       "      <td>4</td>\n",
       "    </tr>\n",
       "  </tbody>\n",
       "</table>\n",
       "</div>"
      ],
      "text/plain": [
       "   danceability  energy  key  loudness  mode  speechiness  acousticness  \\\n",
       "0         0.611   0.483   11    -6.216     0        0.055        0.2140   \n",
       "1         0.900   0.597   11    -6.008     1        0.232        0.0299   \n",
       "2         0.829   0.436    3    -8.205     1        0.327        0.1500   \n",
       "3         0.939   0.521    1    -7.468     1        0.379        0.1950   \n",
       "4         0.803   0.649    9    -4.294     0        0.213        0.1110   \n",
       "\n",
       "   instrumentalness  liveness  valence    tempo            type  \\\n",
       "0               0.0    0.1240    0.204  145.983  audio_features   \n",
       "1               0.0    0.0933    0.548  133.954  audio_features   \n",
       "2               0.0    0.0954    0.693  143.031  audio_features   \n",
       "3               0.0    0.2010    0.515  124.995  audio_features   \n",
       "4               0.0    0.1110    0.135   85.037  audio_features   \n",
       "\n",
       "                       id                                   uri  \\\n",
       "0  39MK3d3fonIP8Mz9oHCTBB  spotify:track:39MK3d3fonIP8Mz9oHCTBB   \n",
       "1  1k513qenEUjyU3MxMSUaPj  spotify:track:1k513qenEUjyU3MxMSUaPj   \n",
       "2  6HgWWaMu31KdOpEG5l28BG  spotify:track:6HgWWaMu31KdOpEG5l28BG   \n",
       "3  4EzkcqltSOxYE2lstuLOFs  spotify:track:4EzkcqltSOxYE2lstuLOFs   \n",
       "4  6GoVUO5vla1JtUj2rq9Yl4  spotify:track:6GoVUO5vla1JtUj2rq9Yl4   \n",
       "\n",
       "                                          track_href  \\\n",
       "0  https://api.spotify.com/v1/tracks/39MK3d3fonIP...   \n",
       "1  https://api.spotify.com/v1/tracks/1k513qenEUjy...   \n",
       "2  https://api.spotify.com/v1/tracks/6HgWWaMu31Kd...   \n",
       "3  https://api.spotify.com/v1/tracks/4EzkcqltSOxY...   \n",
       "4  https://api.spotify.com/v1/tracks/6GoVUO5vla1J...   \n",
       "\n",
       "                                        analysis_url  duration_ms  \\\n",
       "0  https://api.spotify.com/v1/audio-analysis/39MK...       231747   \n",
       "1  https://api.spotify.com/v1/audio-analysis/1k51...       164776   \n",
       "2  https://api.spotify.com/v1/audio-analysis/6HgW...       223204   \n",
       "3  https://api.spotify.com/v1/audio-analysis/4Ezk...       133000   \n",
       "4  https://api.spotify.com/v1/audio-analysis/6GoV...       226360   \n",
       "\n",
       "   time_signature  \n",
       "0               4  \n",
       "1               4  \n",
       "2               4  \n",
       "3               4  \n",
       "4               4  "
      ]
     },
     "execution_count": 94,
     "metadata": {},
     "output_type": "execute_result"
    }
   ],
   "source": [
    "audio_features.head()"
   ]
  },
  {
   "cell_type": "code",
   "execution_count": 2,
   "id": "feea5c41",
   "metadata": {},
   "outputs": [],
   "source": [
    "import pandas as pd\n",
    "df = pd.read_csv('audio_features.csv')"
   ]
  },
  {
   "cell_type": "code",
   "execution_count": 5,
   "id": "b7e05c7c",
   "metadata": {},
   "outputs": [
    {
     "data": {
      "text/plain": [
       "(8141, 19)"
      ]
     },
     "execution_count": 5,
     "metadata": {},
     "output_type": "execute_result"
    }
   ],
   "source": [
    "df.shape"
   ]
  },
  {
   "cell_type": "code",
   "execution_count": 12,
   "id": "d48cd93b",
   "metadata": {},
   "outputs": [],
   "source": [
    "def add_lists(attr: list[str]):\n",
    "    for att in attr:\n",
    "        print(att)"
   ]
  },
  {
   "cell_type": "code",
   "execution_count": 13,
   "id": "ebd66c38",
   "metadata": {},
   "outputs": [
    {
     "name": "stdout",
     "output_type": "stream",
     "text": [
      "playlists\n",
      "tracks\n"
     ]
    }
   ],
   "source": [
    "add_lists(['playlists', 'tracks'])"
   ]
  },
  {
   "cell_type": "code",
   "execution_count": 37,
   "id": "3842e60d",
   "metadata": {},
   "outputs": [],
   "source": [
    "tracks = pd.read_csv('tracks.csv')"
   ]
  },
  {
   "cell_type": "code",
   "execution_count": 27,
   "id": "8e362c8e",
   "metadata": {},
   "outputs": [
    {
     "data": {
      "text/html": [
       "<div>\n",
       "<style scoped>\n",
       "    .dataframe tbody tr th:only-of-type {\n",
       "        vertical-align: middle;\n",
       "    }\n",
       "\n",
       "    .dataframe tbody tr th {\n",
       "        vertical-align: top;\n",
       "    }\n",
       "\n",
       "    .dataframe thead th {\n",
       "        text-align: right;\n",
       "    }\n",
       "</style>\n",
       "<table border=\"1\" class=\"dataframe\">\n",
       "  <thead>\n",
       "    <tr style=\"text-align: right;\">\n",
       "      <th></th>\n",
       "      <th>Unnamed: 0</th>\n",
       "      <th>track_id</th>\n",
       "      <th>track_name</th>\n",
       "      <th>artist_name</th>\n",
       "      <th>artist_id</th>\n",
       "      <th>track_popularity</th>\n",
       "      <th>album_name</th>\n",
       "      <th>album_id</th>\n",
       "      <th>track_length</th>\n",
       "      <th>release_date</th>\n",
       "      <th>playlist_id</th>\n",
       "      <th>playlist_name</th>\n",
       "      <th>genre</th>\n",
       "    </tr>\n",
       "  </thead>\n",
       "  <tbody>\n",
       "    <tr>\n",
       "      <th>8775</th>\n",
       "      <td>8775</td>\n",
       "      <td>0n8sBhOtUb6pDFKjpxfakj</td>\n",
       "      <td>Miles Runs the Voodoo Down (feat. Wayne Shorte...</td>\n",
       "      <td>Miles Davis</td>\n",
       "      <td>0kbYTNQb4Pb1rPbbaF0pT4</td>\n",
       "      <td>38</td>\n",
       "      <td>Bitches Brew</td>\n",
       "      <td>3Q0zkOZEOC855ErOOJ1AdO</td>\n",
       "      <td>14.02</td>\n",
       "      <td>1970-04</td>\n",
       "      <td>37i9dQZF1DWUb0uBnlJuTi</td>\n",
       "      <td>Jazz-Funk</td>\n",
       "      <td>Jazz</td>\n",
       "    </tr>\n",
       "    <tr>\n",
       "      <th>8931</th>\n",
       "      <td>8931</td>\n",
       "      <td>6G7MHIvSDR3ehXPkuDFAlM</td>\n",
       "      <td>California Dreamin'</td>\n",
       "      <td>Bobby Womack</td>\n",
       "      <td>0vqkz1b2qBkoYrGMj2CUWq</td>\n",
       "      <td>68</td>\n",
       "      <td>Fly Me To The Moon</td>\n",
       "      <td>1Kw0H84LL5YuP37Kh8lbzY</td>\n",
       "      <td>3.35</td>\n",
       "      <td>1969-01</td>\n",
       "      <td>37i9dQZF1DX9XIFQuFvzM4</td>\n",
       "      <td>Feelin' Good</td>\n",
       "      <td>Soul</td>\n",
       "    </tr>\n",
       "    <tr>\n",
       "      <th>8942</th>\n",
       "      <td>8942</td>\n",
       "      <td>6igsoAR6Co9u7Rq3U7mlOD</td>\n",
       "      <td>Hollywood Swinging</td>\n",
       "      <td>Kool &amp; The Gang</td>\n",
       "      <td>3VNITwohbvU5Wuy5PC6dsI</td>\n",
       "      <td>61</td>\n",
       "      <td>Wild And Peaceful</td>\n",
       "      <td>3MRgojA0LfPka4RG7aRjsI</td>\n",
       "      <td>4.67</td>\n",
       "      <td>1973-09</td>\n",
       "      <td>37i9dQZF1DX9XIFQuFvzM4</td>\n",
       "      <td>Feelin' Good</td>\n",
       "      <td>Soul</td>\n",
       "    </tr>\n",
       "    <tr>\n",
       "      <th>9025</th>\n",
       "      <td>9025</td>\n",
       "      <td>7FS541dJh3iQAEXEZoDhE6</td>\n",
       "      <td>Twistin' the Night Away</td>\n",
       "      <td>Sam Cooke</td>\n",
       "      <td>6hnWRPzGGKiapVX1UCdEAC</td>\n",
       "      <td>65</td>\n",
       "      <td>Twistin' the Night Away</td>\n",
       "      <td>406RCIvK6uh49XviqAI6kY</td>\n",
       "      <td>2.66</td>\n",
       "      <td>1962-04</td>\n",
       "      <td>37i9dQZF1DX9XIFQuFvzM4</td>\n",
       "      <td>Feelin' Good</td>\n",
       "      <td>Soul</td>\n",
       "    </tr>\n",
       "    <tr>\n",
       "      <th>9089</th>\n",
       "      <td>9089</td>\n",
       "      <td>6G7MHIvSDR3ehXPkuDFAlM</td>\n",
       "      <td>California Dreamin'</td>\n",
       "      <td>Bobby Womack</td>\n",
       "      <td>0vqkz1b2qBkoYrGMj2CUWq</td>\n",
       "      <td>68</td>\n",
       "      <td>Fly Me To The Moon</td>\n",
       "      <td>1Kw0H84LL5YuP37Kh8lbzY</td>\n",
       "      <td>3.35</td>\n",
       "      <td>1969-01</td>\n",
       "      <td>37i9dQZF1DWWvhKV4FBciw</td>\n",
       "      <td>Funk &amp; Soul Classics</td>\n",
       "      <td>Soul</td>\n",
       "    </tr>\n",
       "    <tr>\n",
       "      <th>9106</th>\n",
       "      <td>9106</td>\n",
       "      <td>6igsoAR6Co9u7Rq3U7mlOD</td>\n",
       "      <td>Hollywood Swinging</td>\n",
       "      <td>Kool &amp; The Gang</td>\n",
       "      <td>3VNITwohbvU5Wuy5PC6dsI</td>\n",
       "      <td>61</td>\n",
       "      <td>Wild And Peaceful</td>\n",
       "      <td>3MRgojA0LfPka4RG7aRjsI</td>\n",
       "      <td>4.67</td>\n",
       "      <td>1973-09</td>\n",
       "      <td>37i9dQZF1DWWvhKV4FBciw</td>\n",
       "      <td>Funk &amp; Soul Classics</td>\n",
       "      <td>Soul</td>\n",
       "    </tr>\n",
       "    <tr>\n",
       "      <th>9132</th>\n",
       "      <td>9132</td>\n",
       "      <td>3qQVUOHJdgIFWJd0jrG9GE</td>\n",
       "      <td>Doin' It</td>\n",
       "      <td>Herbie Hancock</td>\n",
       "      <td>2ZvrvbQNrHKwjT7qfGFFUW</td>\n",
       "      <td>52</td>\n",
       "      <td>Secrets</td>\n",
       "      <td>13rwtqLWF1jl1NEDhgbYsw</td>\n",
       "      <td>8.05</td>\n",
       "      <td>1976-08</td>\n",
       "      <td>37i9dQZF1DWWvhKV4FBciw</td>\n",
       "      <td>Funk &amp; Soul Classics</td>\n",
       "      <td>Soul</td>\n",
       "    </tr>\n",
       "    <tr>\n",
       "      <th>9320</th>\n",
       "      <td>9320</td>\n",
       "      <td>3qZHUZTQiTMfJXcUYzY5mT</td>\n",
       "      <td>In the Stone</td>\n",
       "      <td>Earth, Wind &amp; Fire</td>\n",
       "      <td>4QQgXkCYTt3BlENzhyNETg</td>\n",
       "      <td>59</td>\n",
       "      <td>I Am</td>\n",
       "      <td>4RLVTxnuVN5ZWZqBFnaaQt</td>\n",
       "      <td>4.81</td>\n",
       "      <td>1979-06</td>\n",
       "      <td>37i9dQZF1DX70TzPK5buVf</td>\n",
       "      <td>Funk Outta Here</td>\n",
       "      <td>Soul</td>\n",
       "    </tr>\n",
       "    <tr>\n",
       "      <th>9328</th>\n",
       "      <td>9328</td>\n",
       "      <td>3K0SJUQNbOkUprTFcwwAKN</td>\n",
       "      <td>Jungle Boogie</td>\n",
       "      <td>Kool &amp; The Gang</td>\n",
       "      <td>3VNITwohbvU5Wuy5PC6dsI</td>\n",
       "      <td>65</td>\n",
       "      <td>Wild And Peaceful</td>\n",
       "      <td>3MRgojA0LfPka4RG7aRjsI</td>\n",
       "      <td>3.11</td>\n",
       "      <td>1973-09</td>\n",
       "      <td>37i9dQZF1DX70TzPK5buVf</td>\n",
       "      <td>Funk Outta Here</td>\n",
       "      <td>Soul</td>\n",
       "    </tr>\n",
       "    <tr>\n",
       "      <th>9354</th>\n",
       "      <td>9354</td>\n",
       "      <td>6igsoAR6Co9u7Rq3U7mlOD</td>\n",
       "      <td>Hollywood Swinging</td>\n",
       "      <td>Kool &amp; The Gang</td>\n",
       "      <td>3VNITwohbvU5Wuy5PC6dsI</td>\n",
       "      <td>61</td>\n",
       "      <td>Wild And Peaceful</td>\n",
       "      <td>3MRgojA0LfPka4RG7aRjsI</td>\n",
       "      <td>4.67</td>\n",
       "      <td>1973-09</td>\n",
       "      <td>37i9dQZF1DX70TzPK5buVf</td>\n",
       "      <td>Funk Outta Here</td>\n",
       "      <td>Soul</td>\n",
       "    </tr>\n",
       "  </tbody>\n",
       "</table>\n",
       "</div>"
      ],
      "text/plain": [
       "      Unnamed: 0                track_id  \\\n",
       "8775        8775  0n8sBhOtUb6pDFKjpxfakj   \n",
       "8931        8931  6G7MHIvSDR3ehXPkuDFAlM   \n",
       "8942        8942  6igsoAR6Co9u7Rq3U7mlOD   \n",
       "9025        9025  7FS541dJh3iQAEXEZoDhE6   \n",
       "9089        9089  6G7MHIvSDR3ehXPkuDFAlM   \n",
       "9106        9106  6igsoAR6Co9u7Rq3U7mlOD   \n",
       "9132        9132  3qQVUOHJdgIFWJd0jrG9GE   \n",
       "9320        9320  3qZHUZTQiTMfJXcUYzY5mT   \n",
       "9328        9328  3K0SJUQNbOkUprTFcwwAKN   \n",
       "9354        9354  6igsoAR6Co9u7Rq3U7mlOD   \n",
       "\n",
       "                                             track_name         artist_name  \\\n",
       "8775  Miles Runs the Voodoo Down (feat. Wayne Shorte...         Miles Davis   \n",
       "8931                                California Dreamin'        Bobby Womack   \n",
       "8942                                 Hollywood Swinging     Kool & The Gang   \n",
       "9025                            Twistin' the Night Away           Sam Cooke   \n",
       "9089                                California Dreamin'        Bobby Womack   \n",
       "9106                                 Hollywood Swinging     Kool & The Gang   \n",
       "9132                                           Doin' It      Herbie Hancock   \n",
       "9320                                       In the Stone  Earth, Wind & Fire   \n",
       "9328                                      Jungle Boogie     Kool & The Gang   \n",
       "9354                                 Hollywood Swinging     Kool & The Gang   \n",
       "\n",
       "                   artist_id  track_popularity               album_name  \\\n",
       "8775  0kbYTNQb4Pb1rPbbaF0pT4                38             Bitches Brew   \n",
       "8931  0vqkz1b2qBkoYrGMj2CUWq                68       Fly Me To The Moon   \n",
       "8942  3VNITwohbvU5Wuy5PC6dsI                61        Wild And Peaceful   \n",
       "9025  6hnWRPzGGKiapVX1UCdEAC                65  Twistin' the Night Away   \n",
       "9089  0vqkz1b2qBkoYrGMj2CUWq                68       Fly Me To The Moon   \n",
       "9106  3VNITwohbvU5Wuy5PC6dsI                61        Wild And Peaceful   \n",
       "9132  2ZvrvbQNrHKwjT7qfGFFUW                52                  Secrets   \n",
       "9320  4QQgXkCYTt3BlENzhyNETg                59                     I Am   \n",
       "9328  3VNITwohbvU5Wuy5PC6dsI                65        Wild And Peaceful   \n",
       "9354  3VNITwohbvU5Wuy5PC6dsI                61        Wild And Peaceful   \n",
       "\n",
       "                    album_id  track_length release_date  \\\n",
       "8775  3Q0zkOZEOC855ErOOJ1AdO         14.02      1970-04   \n",
       "8931  1Kw0H84LL5YuP37Kh8lbzY          3.35      1969-01   \n",
       "8942  3MRgojA0LfPka4RG7aRjsI          4.67      1973-09   \n",
       "9025  406RCIvK6uh49XviqAI6kY          2.66      1962-04   \n",
       "9089  1Kw0H84LL5YuP37Kh8lbzY          3.35      1969-01   \n",
       "9106  3MRgojA0LfPka4RG7aRjsI          4.67      1973-09   \n",
       "9132  13rwtqLWF1jl1NEDhgbYsw          8.05      1976-08   \n",
       "9320  4RLVTxnuVN5ZWZqBFnaaQt          4.81      1979-06   \n",
       "9328  3MRgojA0LfPka4RG7aRjsI          3.11      1973-09   \n",
       "9354  3MRgojA0LfPka4RG7aRjsI          4.67      1973-09   \n",
       "\n",
       "                 playlist_id         playlist_name genre  \n",
       "8775  37i9dQZF1DWUb0uBnlJuTi             Jazz-Funk  Jazz  \n",
       "8931  37i9dQZF1DX9XIFQuFvzM4          Feelin' Good  Soul  \n",
       "8942  37i9dQZF1DX9XIFQuFvzM4          Feelin' Good  Soul  \n",
       "9025  37i9dQZF1DX9XIFQuFvzM4          Feelin' Good  Soul  \n",
       "9089  37i9dQZF1DWWvhKV4FBciw  Funk & Soul Classics  Soul  \n",
       "9106  37i9dQZF1DWWvhKV4FBciw  Funk & Soul Classics  Soul  \n",
       "9132  37i9dQZF1DWWvhKV4FBciw  Funk & Soul Classics  Soul  \n",
       "9320  37i9dQZF1DX70TzPK5buVf       Funk Outta Here  Soul  \n",
       "9328  37i9dQZF1DX70TzPK5buVf       Funk Outta Here  Soul  \n",
       "9354  37i9dQZF1DX70TzPK5buVf       Funk Outta Here  Soul  "
      ]
     },
     "execution_count": 27,
     "metadata": {},
     "output_type": "execute_result"
    }
   ],
   "source": [
    "tracks[(tracks['release_date'].str.len() < 10) & (tracks['release_date'].str.len() > 4)]"
   ]
  },
  {
   "cell_type": "code",
   "execution_count": 38,
   "id": "33c3a0e1",
   "metadata": {},
   "outputs": [],
   "source": [
    "def parse_dates(date):\n",
    "    if len(date) == 4:\n",
    "        return f\"{date}-01-01\"\n",
    "    elif len(date) == 7:\n",
    "        return f\"{date}-01\"\n",
    "    else:\n",
    "        return date\n",
    "        \n",
    "tracks['release_date'] = tracks['release_date'].apply(parse_dates)"
   ]
  },
  {
   "cell_type": "code",
   "execution_count": 39,
   "id": "17734f61",
   "metadata": {},
   "outputs": [
    {
     "data": {
      "text/plain": [
       "array([10])"
      ]
     },
     "execution_count": 39,
     "metadata": {},
     "output_type": "execute_result"
    }
   ],
   "source": [
    "tracks['release_date'].str.len().unique()"
   ]
  },
  {
   "cell_type": "code",
   "execution_count": 40,
   "id": "a561620a",
   "metadata": {},
   "outputs": [
    {
     "data": {
      "text/plain": [
       "0       2023-06-02\n",
       "1       2023-05-24\n",
       "2       2023-05-12\n",
       "3       2023-06-02\n",
       "4       2023-06-02\n",
       "           ...    \n",
       "9629    2020-10-16\n",
       "9630    2023-03-03\n",
       "9631    2023-02-24\n",
       "9632    2023-02-22\n",
       "9633    2023-05-31\n",
       "Name: release_date, Length: 9634, dtype: object"
      ]
     },
     "execution_count": 40,
     "metadata": {},
     "output_type": "execute_result"
    }
   ],
   "source": [
    "tracks['release_date']"
   ]
  },
  {
   "cell_type": "code",
   "execution_count": null,
   "id": "2cd7a903",
   "metadata": {},
   "outputs": [],
   "source": []
  }
 ],
 "metadata": {
  "kernelspec": {
   "display_name": "Python 3 (ipykernel)",
   "language": "python",
   "name": "python3"
  },
  "language_info": {
   "codemirror_mode": {
    "name": "ipython",
    "version": 3
   },
   "file_extension": ".py",
   "mimetype": "text/x-python",
   "name": "python",
   "nbconvert_exporter": "python",
   "pygments_lexer": "ipython3",
   "version": "3.11.3"
  }
 },
 "nbformat": 4,
 "nbformat_minor": 5
}
